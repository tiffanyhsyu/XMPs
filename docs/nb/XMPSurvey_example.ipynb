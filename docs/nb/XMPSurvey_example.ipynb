{
 "cells": [
  {
   "cell_type": "markdown",
   "metadata": {},
   "source": [
    "# Example with XMPSurvey"
   ]
  },
  {
   "cell_type": "code",
   "execution_count": 3,
   "metadata": {
    "collapsed": true
   },
   "outputs": [],
   "source": [
    "# imports\n",
    "from linetools.isgm import emsystem as liems\n",
    "import linetools\n",
    "\n",
    "from xmps.surveys import xmpsurvey as xmpsrvy"
   ]
  },
  {
   "cell_type": "markdown",
   "metadata": {},
   "source": [
    "## Build"
   ]
  },
  {
   "cell_type": "markdown",
   "metadata": {},
   "source": [
    "### EmSystem"
   ]
  },
  {
   "cell_type": "code",
   "execution_count": 4,
   "metadata": {
    "collapsed": false
   },
   "outputs": [],
   "source": [
    "alisb_file = linetools.__path__[0]+'/isgm/tests/files/spec1d_J0018p2345_KASTb_coadd.mod.out'"
   ]
  },
  {
   "cell_type": "code",
   "execution_count": 5,
   "metadata": {
    "collapsed": false
   },
   "outputs": [
    {
     "name": "stdout",
     "output_type": "stream",
     "text": [
      "linetools.lists.parse: Reading linelist --- \n",
      "   /Users/xavier/local/Python/linetools/linetools/data/lines/galaxy_forbidden.ascii\n",
      "linetools.lists.parse: Reading linelist --- \n",
      "   /Users/xavier/local/Python/linetools/linetools/data/lines/galaxy_recomb.ascii\n",
      "linetools.lists.parse: Reading linelist --- \n",
      "   /Users/xavier/local/Python/linetools/linetools/data/lines/galaxy_abs.ascii\n",
      "read_sets: Using set file -- \n",
      "  /Users/xavier/local/Python/linetools/linetools/lists/sets/llist_v1.0.ascii\n"
     ]
    },
    {
     "name": "stderr",
     "output_type": "stream",
     "text": [
      "/Users/xavier/anaconda/lib/python2.7/site-packages/astropy/table/column.py:1096: MaskedArrayFutureWarning: setting an item on a masked array which has a shared mask will not copy the mask and also change the original mask array in the future.\n",
      "Check the NumPy 1.11 release notes for more information.\n",
      "  ma.MaskedArray.__setitem__(self, index, value)\n",
      "/Users/xavier/local/Python/linetools/linetools/lists/linelist.py:371: UserWarning: Not implemented: will not set relative strength for LineList: Galaxy.\n",
      "  warnings.warn('Not implemented: will not set relative strength for LineList: {}.'.format(self.list))\n"
     ]
    },
    {
     "data": {
      "text/plain": [
       "<EmSystem: name=J001859.32+234540.32_z0.015 type=NONE, 00:18:59.32 +23:45:40.32, z=0.0154042>"
      ]
     },
     "execution_count": 5,
     "metadata": {},
     "output_type": "execute_result"
    }
   ],
   "source": [
    "emsys = liems.EmSystem.from_alis(alisb_file, 'J001859.32+234540.32')\n",
    "emsys"
   ]
  },
  {
   "cell_type": "code",
   "execution_count": 6,
   "metadata": {
    "collapsed": true
   },
   "outputs": [],
   "source": [
    "emsys2 = liems.EmSystem.from_alis(alisb_file, 'J001859.32+234540.32')"
   ]
  },
  {
   "cell_type": "markdown",
   "metadata": {},
   "source": [
    "### Survey"
   ]
  },
  {
   "cell_type": "code",
   "execution_count": 28,
   "metadata": {
    "collapsed": false
   },
   "outputs": [],
   "source": [
    "reload(xmpsrvy)\n",
    "kastb = xmpsrvy.XMPSurvey()\n",
    "kastb.add_em_sys(emsys)\n",
    "kastb.add_em_sys(emsys2)"
   ]
  },
  {
   "cell_type": "code",
   "execution_count": 29,
   "metadata": {
    "collapsed": false
   },
   "outputs": [
    {
     "data": {
      "text/plain": [
       "[<EmSystem: name=J001859.32+234540.32_z0.015 type=NONE, 00:18:59.32 +23:45:40.32, z=0.0154042>,\n",
       " <EmSystem: name=J001859.32+234540.32_z0.015 type=NONE, 00:18:59.32 +23:45:40.32, z=0.0154042>]"
      ]
     },
     "execution_count": 29,
     "metadata": {},
     "output_type": "execute_result"
    }
   ],
   "source": [
    "kastb._em_sys"
   ]
  },
  {
   "cell_type": "markdown",
   "metadata": {},
   "source": [
    "## Basic Properties"
   ]
  },
  {
   "cell_type": "code",
   "execution_count": 30,
   "metadata": {
    "collapsed": false
   },
   "outputs": [
    {
     "data": {
      "text/plain": [
       "array([ 0.01540425,  0.01540425])"
      ]
     },
     "execution_count": 30,
     "metadata": {},
     "output_type": "execute_result"
    }
   ],
   "source": [
    "kastb.zem"
   ]
  },
  {
   "cell_type": "markdown",
   "metadata": {},
   "source": [
    "## H$\\beta$ fluxes"
   ]
  },
  {
   "cell_type": "code",
   "execution_count": 31,
   "metadata": {
    "collapsed": false
   },
   "outputs": [
    {
     "data": {
      "text/html": [
       "&lt;Table length=2&gt;\n",
       "<table id=\"table4658276432\" class=\"table-striped table-bordered table-condensed\">\n",
       "<thead><tr><th>sys</th><th>zem</th><th>flux</th><th>sig_flux</th></tr></thead>\n",
       "<thead><tr><th>unicode27</th><th>float64</th><th>float64</th><th>float64</th></tr></thead>\n",
       "<tr><td>J001859.32+234540.32_z0.015</td><td>0.01540425</td><td>7857.49594</td><td>107.20307</td></tr>\n",
       "<tr><td>J001859.32+234540.32_z0.015</td><td>0.01540425</td><td>7857.49594</td><td>107.20307</td></tr>\n",
       "</table>"
      ],
      "text/plain": [
       "<Table length=2>\n",
       "            sys                zem        flux     sig_flux\n",
       "         unicode27           float64    float64    float64 \n",
       "--------------------------- ---------- ---------- ---------\n",
       "J001859.32+234540.32_z0.015 0.01540425 7857.49594 107.20307\n",
       "J001859.32+234540.32_z0.015 0.01540425 7857.49594 107.20307"
      ]
     },
     "execution_count": 31,
     "metadata": {},
     "output_type": "execute_result"
    }
   ],
   "source": [
    "kastb.line('Hbeta')"
   ]
  },
  {
   "cell_type": "code",
   "execution_count": null,
   "metadata": {
    "collapsed": true
   },
   "outputs": [],
   "source": []
  }
 ],
 "metadata": {
  "kernelspec": {
   "display_name": "Python 2",
   "language": "python",
   "name": "python2"
  },
  "language_info": {
   "codemirror_mode": {
    "name": "ipython",
    "version": 2
   },
   "file_extension": ".py",
   "mimetype": "text/x-python",
   "name": "python",
   "nbconvert_exporter": "python",
   "pygments_lexer": "ipython2",
   "version": "2.7.11"
  }
 },
 "nbformat": 4,
 "nbformat_minor": 0
}
